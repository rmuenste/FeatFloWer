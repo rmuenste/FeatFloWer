{
 "cells": [
  {
   "cell_type": "markdown",
   "metadata": {},
   "source": [
    "## Young Modulus and Hooke's Law"
   ]
  },
  {
   "cell_type": "markdown",
   "metadata": {},
   "source": [
    "Hooke's law states that for springs and \"elastic\" objects:"
   ]
  },
  {
   "cell_type": "markdown",
   "metadata": {},
   "source": [
    "$$\n",
    "\\begin{eqnarray}\n",
    "F=k \\Delta x,\n",
    "\\end{eqnarray}\n",
    "$$"
   ]
  },
  {
   "cell_type": "markdown",
   "metadata": {},
   "source": [
    "Where $F$ is the magnitude of the stretching force, $\\Delta x$ the corresponding elongation of the spring from equilibrium, and $k$ is a constact that depends on the geometry and the material of the spring. If the deformations are small enough, most materials, in fact, behave like springs: Their deformation is directly proportional to the external force. Therefore, it may be useful to operate with an expression that is similar to Hooke's law but describes the properties of various materials, as opposed to objects such as springs. Such an expression does exist. Consider, for instance, a bar of initial length $L$ and cross-sectional area $A$ stressed by a force of magnitude $F$. As a result, the bar stretches by $\\Delta L$."
   ]
  },
  {
   "cell_type": "markdown",
   "metadata": {},
   "source": [
    "![alt text](img/57422.jpg \"Title\")"
   ]
  },
  {
   "cell_type": "markdown",
   "metadata": {},
   "source": [
    "Let us define two new terms:\n",
    "<ul>\n",
    "  <li> <i>Tensile stress</i> is the ratio of the stretching force to the cross-sectional area:</li> $$ stress=\\frac{F}{A} $$\n",
    "  <li> <i>Tensile strain</i> is the ratio of the elongation of the rod to the initial length of the bar:</li> $$ strain=\\frac{\\Delta L}{L} $$  \n",
    "</ul>"
   ]
  },
  {
   "cell_type": "markdown",
   "metadata": {},
   "source": [
    "It turns out that the ratio of the tensile stress to the tensile strain is a constant as long as the tensile stress is not too large. That constant, which is an inherent property of a material, is called Young's modulus and is given by"
   ]
  },
  {
   "cell_type": "markdown",
   "metadata": {},
   "source": [
    "$$Y = \\frac{\\frac{F}{A}}{\\frac{\\Delta L}{L}}$$"
   ]
  },
  {
   "cell_type": "markdown",
   "metadata": {},
   "source": [
    "The SI unit of Young's modulus is pressure $Pa$"
   ]
  },
  {
   "cell_type": "markdown",
   "metadata": {},
   "source": [
    "Consider a metal bar of initial length $L$ and cross-sectional area $A$. The Young's modulus of the material of the bar is $Y$. Find the \"spring constant\" $k$ of such a bar for low values of tensile strain:"
   ]
  },
  {
   "cell_type": "markdown",
   "metadata": {},
   "source": [
    "$$\n",
    "\\begin{eqnarray}\n",
    "Y &=& \\frac{\\frac{F}{A}}{\\frac{\\Delta L}{L}} | \\cdot \\frac{\\Delta L A}{L} \\\\\n",
    "Y \\frac{\\Delta L A}{L} &=& F \\\\\n",
    "\\underbrace{\\frac{YA}{L}}_{k_s} \\underbrace{\\Delta L}_x &=& F \\\\\n",
    "\\implies k_s &=& \\frac{YA}{L}\n",
    "\\end{eqnarray}\n",
    "$$"
   ]
  },
  {
   "cell_type": "markdown",
   "metadata": {},
   "source": [
    "Ten identical steel wires have equal lengths $L$ and equal \"spring constants\" $k$. The wires are connected end to end, so that the resultant wire has length $10L$. What is the \"spring constant\" of the resulting wire?"
   ]
  },
  {
   "cell_type": "markdown",
   "metadata": {},
   "source": [
    "$$ k_s = \\frac{YA}{10L}, \\; k_s = \\frac{1}{10} \\frac{YA}{L} $$"
   ]
  },
  {
   "cell_type": "code",
   "execution_count": null,
   "metadata": {
    "collapsed": true
   },
   "outputs": [],
   "source": []
  }
 ],
 "metadata": {
  "kernelspec": {
   "display_name": "Python 3",
   "language": "python",
   "name": "python3"
  },
  "language_info": {
   "codemirror_mode": {
    "name": "ipython",
    "version": 3
   },
   "file_extension": ".py",
   "mimetype": "text/x-python",
   "name": "python",
   "nbconvert_exporter": "python",
   "pygments_lexer": "ipython3",
   "version": "3.5.2"
  }
 },
 "nbformat": 4,
 "nbformat_minor": 1
}
