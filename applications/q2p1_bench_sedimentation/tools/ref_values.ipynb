{
 "cells": [
  {
   "cell_type": "code",
   "execution_count": 10,
   "metadata": {},
   "outputs": [],
   "source": [
    "import matplotlib.pyplot as plt\n",
    "import numpy as np\n",
    "import os \n",
    "import re"
   ]
  },
  {
   "cell_type": "code",
   "execution_count": 4,
   "metadata": {},
   "outputs": [
    {
     "name": "stdout",
     "output_type": "stream",
     "text": [
      " Volume in Laufwerk D: hat keine Bezeichnung.\n",
      " Volumeseriennummer: C413-AFEB\n",
      "\n",
      " Verzeichnis von d:\\code\\FeatFloWer\\Feat_FloWer\\applications\\q2p1_bench_sedimentation\\tools\\_data\n",
      "\n",
      "26.05.2022  10:20    <DIR>          .\n",
      "26.05.2022  10:20    <DIR>          ..\n",
      "26.05.2022  10:00            40.960 .prot_ref.txt.swp\n",
      "26.05.2022  10:00            40.960 .prot_zdiv.txt.swp\n",
      "26.05.2022  10:00           177.261 BenchValues.txt\n",
      "26.05.2022  10:00         2.652.917 prot_ref.txt\n",
      "26.05.2022  10:00         2.652.257 prot_zdiv.txt\n",
      "26.05.2022  10:00             2.836 q2p1_param.dat\n",
      "26.05.2022  10:00             2.845 q2p1_param.dat~\n",
      "26.05.2022  10:20               494 ref_values.ipynb\n",
      "26.05.2022  10:00             2.537 Statistics.txt\n",
      "               9 Datei(en),      5.573.067 Bytes\n",
      "               2 Verzeichnis(se),  9.353.224.192 Bytes frei\n"
     ]
    }
   ],
   "source": [
    "%ls"
   ]
  },
  {
   "cell_type": "code",
   "execution_count": 11,
   "metadata": {},
   "outputs": [
    {
     "name": "stdout",
     "output_type": "stream",
     "text": [
      "1.0000E-03\n",
      "0.001\n",
      "Length: 1100 1100 1100\n"
     ]
    }
   ],
   "source": [
    "with open(\"prot_zdiv.txt\", \"r\") as f:\n",
    "    lines = f.readlines()\n",
    "\n",
    "time = []\n",
    "vel = []\n",
    "pos = []\n",
    "force = []\n",
    "for line in lines:\n",
    "    m = re.search(\"PartVel:\", line)\n",
    "    if m != None:\n",
    "        splitLine = line.split()\n",
    "        time.append(splitLine[4])\n",
    "        vel.append(splitLine[3])\n",
    "    m = re.search(\"Position:\", line)\n",
    "    if m != None:\n",
    "        splitLine = line.split()\n",
    "        pos.append(splitLine[3])\n",
    "    m = re.search(\"ResistanceForce:\", line)\n",
    "    if m != None:\n",
    "        splitLine = line.split()\n",
    "        force.append(splitLine[3])\n",
    "print(time[0])\n",
    "time = [float(x) for x in time]\n",
    "print(time[0])\n",
    "time = [float(x) for x in time]\n",
    "vel = [float(x) for x in vel]\n",
    "pos = [float(x) for x in pos]\n",
    "force = [float(x) for x in force]\n",
    "print(\"Length:\", len(time), len(vel), len(pos))"
   ]
  },
  {
   "cell_type": "code",
   "execution_count": 8,
   "metadata": {},
   "outputs": [
    {
     "name": "stdout",
     "output_type": "stream",
     "text": [
      " Volume in Laufwerk D: hat keine Bezeichnung.\n",
      " Volumeseriennummer: C413-AFEB\n",
      "\n",
      " Verzeichnis von d:\\code\\FeatFloWer\\Feat_FloWer\\applications\\q2p1_bench_sedimentation\\tools\\_data\n",
      "\n",
      "27.05.2022  19:32    <DIR>          .\n",
      "27.05.2022  19:32    <DIR>          ..\n",
      "26.05.2022  10:00            40.960 .prot_ref.txt.swp\n",
      "26.05.2022  10:00            40.960 .prot_zdiv.txt.swp\n",
      "26.05.2022  10:00           177.261 BenchValues.txt\n",
      "27.05.2022  19:32         3.523.659 out.txt\n",
      "26.05.2022  10:00         2.652.917 prot_ref.txt\n",
      "26.05.2022  10:00         2.652.257 prot_zdiv.txt\n",
      "26.05.2022  10:00             2.836 q2p1_param.dat\n",
      "26.05.2022  10:00             2.845 q2p1_param.dat~\n",
      "26.05.2022  10:52           112.200 ref_cols.txt\n",
      "26.05.2022  10:55           112.200 ref_grid.txt\n",
      "27.05.2022  18:19            22.655 ref_values.ipynb\n",
      "26.05.2022  10:00             2.537 Statistics.txt\n",
      "              12 Datei(en),      9.343.287 Bytes\n",
      "               2 Verzeichnis(se), 11.180.699.648 Bytes frei\n"
     ]
    }
   ],
   "source": [
    "%ls"
   ]
  },
  {
   "cell_type": "code",
   "execution_count": 23,
   "metadata": {},
   "outputs": [
    {
     "name": "stdout",
     "output_type": "stream",
     "text": [
      "0.001\n",
      "Length: 1100 1100 1100\n"
     ]
    }
   ],
   "source": [
    "\n",
    "with open(\"out2.txt\", \"r\") as f:\n",
    "    lines = f.readlines()\n",
    "\n",
    "timen = []\n",
    "veln = []\n",
    "posn = []\n",
    "for line in lines:\n",
    "    m = re.search(\"Velocity:\", line)\n",
    "    if m != None:\n",
    "        splitLine = line.split()\n",
    "        timen.append(splitLine[4])\n",
    "        veln.append(splitLine[3])\n",
    "    m = re.search(\"Position:\", line)\n",
    "    if m != None:\n",
    "        splitLine = line.split()\n",
    "        posn.append(splitLine[3])\n",
    "print(time[0])\n",
    "timen = [float(x) for x in timen]\n",
    "veln = [float(x) for x in veln]\n",
    "posn = [float(x) for x in posn]\n",
    "print(\"Length:\", len(timen), len(veln), len(posn))"
   ]
  },
  {
   "cell_type": "code",
   "execution_count": 24,
   "metadata": {},
   "outputs": [],
   "source": [
    "outData = np.array([time, force, vel, pos])\n",
    "outData = np.transpose(outData)\n",
    "np.savetxt('ref_grid.txt', outData)"
   ]
  },
  {
   "cell_type": "code",
   "execution_count": 25,
   "metadata": {},
   "outputs": [],
   "source": [
    "refData = np.loadtxt(\"ref_cols.txt\")"
   ]
  },
  {
   "cell_type": "code",
   "execution_count": 26,
   "metadata": {},
   "outputs": [
    {
     "name": "stdout",
     "output_type": "stream",
     "text": [
      "1100\n"
     ]
    }
   ],
   "source": [
    "vel2 = refData[:,2]\n",
    "time2 = refData[:,0]\n",
    "print(len(vel2))"
   ]
  },
  {
   "cell_type": "code",
   "execution_count": 27,
   "metadata": {},
   "outputs": [
    {
     "data": {
      "text/plain": [
       "[<matplotlib.lines.Line2D at 0x178d5853288>]"
      ]
     },
     "execution_count": 27,
     "metadata": {},
     "output_type": "execute_result"
    },
    {
     "data": {
      "image/png": "[encoded data removed]",
      "text/plain": [
       "<Figure size 432x288 with 1 Axes>"
      ]
     },
     "metadata": {
      "needs_background": "light"
     },
     "output_type": "display_data"
    }
   ],
   "source": [
    "#plt.plot(time, vel)\n",
    "plt.plot(timen, veln)\n",
    "plt.plot(time2, vel2, linestyle='dashed')"
   ]
  },
  {
   "cell_type": "code",
   "execution_count": 2,
   "metadata": {},
   "outputs": [
    {
     "data": {
      "text/plain": [
       "1.38390651"
      ]
     },
     "execution_count": 2,
     "metadata": {},
     "output_type": "execute_result"
    }
   ],
   "source": [
    "0.141071 * 9.81\n"
   ]
  },
  {
   "cell_type": "code",
   "execution_count": 5,
   "metadata": {},
   "outputs": [
    {
     "name": "stdout",
     "output_type": "stream",
     "text": [
      "158\n",
      "0.141071411925\n",
      "1.38391055098425\n"
     ]
    }
   ],
   "source": [
    "vol = 1.76625e-06\n",
    "effRho = 158.0\n",
    "invMass = 505.51\n",
    "print(1120 - 962)\n",
    "print(vol * effRho * invMass)   \n",
    "print(vol * effRho * invMass * 9.81)   "
   ]
  },
  {
   "cell_type": "code",
   "execution_count": 6,
   "metadata": {},
   "outputs": [
    {
     "data": {
      "text/plain": [
       "0.005"
      ]
     },
     "execution_count": 6,
     "metadata": {},
     "output_type": "execute_result"
    }
   ],
   "source": [
    "5.0 * 1e-3"
   ]
  },
  {
   "cell_type": "code",
   "execution_count": 7,
   "metadata": {},
   "outputs": [
    {
     "data": {
      "text/plain": [
       "0.01"
      ]
     },
     "execution_count": 7,
     "metadata": {},
     "output_type": "execute_result"
    }
   ],
   "source": [
    "1.0 * 1e-2"
   ]
  },
  {
   "cell_type": "code",
   "execution_count": null,
   "metadata": {},
   "outputs": [],
   "source": []
  }
 ],
 "metadata": {
  "interpreter": {
   "hash": "ad2bdc8ecc057115af97d19610ffacc2b4e99fae6737bb82f5d7fb13d2f2c186"
  },
  "kernelspec": {
   "display_name": "Python 3.7.6 ('base')",
   "language": "python",
   "name": "python3"
  },
  "language_info": {
   "codemirror_mode": {
    "name": "ipython",
    "version": 3
   },
   "file_extension": ".py",
   "mimetype": "text/x-python",
   "name": "python",
   "nbconvert_exporter": "python",
   "pygments_lexer": "ipython3",
   "version": "3.7.6"
  },
  "orig_nbformat": 4
 },
 "nbformat": 4,
 "nbformat_minor": 2
}
