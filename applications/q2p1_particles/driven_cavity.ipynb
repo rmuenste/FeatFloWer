{
 "cells": [
  {
   "cell_type": "markdown",
   "metadata": {},
   "source": [
    "### Driven Cavity Particle Setup"
   ]
  },
  {
   "cell_type": "code",
   "execution_count": null,
   "metadata": {},
   "outputs": [],
   "source": []
  },
  {
   "cell_type": "markdown",
   "metadata": {},
   "source": [
    "#### Domain Configuration\n",
    "LVL2 = 458752 Elements  \n",
    "Size  = $[0.7, 0.41, 0.4]$  \n",
    "Volume = 0.1148"
   ]
  },
  {
   "cell_type": "markdown",
   "metadata": {},
   "source": [
    "#### Fluid Parameters\n",
    "$$ \\text{Fluid Density :}\\rho_f=1.0 $$\n",
    "$$ \\text{Fluid Viscosity :}\\mu_f=0.001 $$\n",
    "$$ \\text{Characteristic Velocity :}\\overline{u_f}=1.0 $$\n",
    "$$ \\text{Characteristic Diameter :}D=0.4 $$\n",
    "Reynolds Number:\n",
    "$$ \\frac{\\rho_f \\overline{u_f} D}{\\mu} \\approx \\frac{1.0 \\cdot 1.0 \\cdot 0.4}{0.001} \\approx 400$$"
   ]
  },
  {
   "cell_type": "markdown",
   "metadata": {},
   "source": [
    "#### Particle Parameters\n",
    "$$ \\text{Particle Density :}\\rho_p=1.0 $$\n",
    "$$ \\text{Particle Radius :}r=0.04 $$\n",
    "$$ \\text{Volume Fraction :}v_{frac} \\approx 15.0 \\% $$"
   ]
  },
  {
   "cell_type": "code",
   "execution_count": 2,
   "metadata": {},
   "outputs": [],
   "source": [
    "import numpy as np\n"
   ]
  },
  {
   "cell_type": "code",
   "execution_count": 7,
   "metadata": {},
   "outputs": [],
   "source": [
    "part_vol = 4.0/3.0 * np.pi * 0.02**3 * 503.0"
   ]
  },
  {
   "cell_type": "code",
   "execution_count": 8,
   "metadata": {},
   "outputs": [
    {
     "data": {
      "text/plain": [
       "14.682658348484704"
      ]
     },
     "execution_count": 8,
     "metadata": {},
     "output_type": "execute_result"
    }
   ],
   "source": [
    "part_vol / 0.1148 * 100.0"
   ]
  },
  {
   "cell_type": "code",
   "execution_count": null,
   "metadata": {},
   "outputs": [],
   "source": []
  }
 ],
 "metadata": {
  "kernelspec": {
   "display_name": "Python 3",
   "language": "python",
   "name": "python3"
  },
  "language_info": {
   "codemirror_mode": {
    "name": "ipython",
    "version": 3
   },
   "file_extension": ".py",
   "mimetype": "text/x-python",
   "name": "python",
   "nbconvert_exporter": "python",
   "pygments_lexer": "ipython3",
   "version": "3.6.7"
  }
 },
 "nbformat": 4,
 "nbformat_minor": 2
}
